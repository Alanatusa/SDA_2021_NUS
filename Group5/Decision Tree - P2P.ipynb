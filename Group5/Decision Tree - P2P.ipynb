{
 "cells": [
  {
   "cell_type": "code",
   "execution_count": 1,
   "id": "located-happening",
   "metadata": {},
   "outputs": [
    {
     "name": "stderr",
     "output_type": "stream",
     "text": [
      "In C:\\Users\\ASUS\\Anaconda3\\lib\\site-packages\\matplotlib\\mpl-data\\stylelib\\_classic_test.mplstyle: \n",
      "The text.latex.unicode rcparam was deprecated in Matplotlib 3.0 and will be removed in 3.2.\n",
      "In C:\\Users\\ASUS\\Anaconda3\\lib\\site-packages\\matplotlib\\mpl-data\\stylelib\\_classic_test.mplstyle: \n",
      "The savefig.frameon rcparam was deprecated in Matplotlib 3.1 and will be removed in 3.3.\n",
      "In C:\\Users\\ASUS\\Anaconda3\\lib\\site-packages\\matplotlib\\mpl-data\\stylelib\\_classic_test.mplstyle: \n",
      "The pgf.debug rcparam was deprecated in Matplotlib 3.0 and will be removed in 3.2.\n",
      "In C:\\Users\\ASUS\\Anaconda3\\lib\\site-packages\\matplotlib\\mpl-data\\stylelib\\_classic_test.mplstyle: \n",
      "The verbose.level rcparam was deprecated in Matplotlib 3.1 and will be removed in 3.3.\n",
      "In C:\\Users\\ASUS\\Anaconda3\\lib\\site-packages\\matplotlib\\mpl-data\\stylelib\\_classic_test.mplstyle: \n",
      "The verbose.fileo rcparam was deprecated in Matplotlib 3.1 and will be removed in 3.3.\n",
      "C:\\Users\\ASUS\\Anaconda3\\lib\\site-packages\\sklearn\\feature_extraction\\text.py:17: DeprecationWarning: Using or importing the ABCs from 'collections' instead of from 'collections.abc' is deprecated since Python 3.3,and in 3.9 it will stop working\n",
      "  from collections import Mapping, defaultdict\n"
     ]
    }
   ],
   "source": [
    "import numpy as np\n",
    "import pandas as pd\n",
    "import matplotlib.pyplot as plt\n",
    "from mpl_toolkits.mplot3d import Axes3D\n",
    "from sklearn import manifold, datasets\n",
    "import seaborn as sns\n",
    "from sklearn import tree\n",
    "from sklearn.metrics import accuracy_score as acc_rate\n",
    "from sklearn.model_selection import train_test_split\n",
    "import graphviz"
   ]
  },
  {
   "cell_type": "code",
   "execution_count": 2,
   "id": "double-frequency",
   "metadata": {},
   "outputs": [],
   "source": [
    "data = pd.read_csv('p2p.csv', index_col=0)"
   ]
  },
  {
   "cell_type": "code",
   "execution_count": 3,
   "id": "fitting-moderator",
   "metadata": {},
   "outputs": [],
   "source": [
    "data = data.dropna()\n",
    "y = data.status\n",
    "data = data.drop(['status', 'nace'], axis=1)"
   ]
  },
  {
   "cell_type": "code",
   "execution_count": 4,
   "id": "refined-lemon",
   "metadata": {},
   "outputs": [],
   "source": [
    "#reduce the data to 2D\n",
    "X_r, err = manifold.locally_linear_embedding(data.dropna(), n_neighbors=15, n_components=2, random_state=0)\n",
    "\n",
    "np.random.seed(123)\n",
    "test_idx = np.random.randint(0, len(X_r), len(X_r) // 3)"
   ]
  },
  {
   "cell_type": "code",
   "execution_count": 5,
   "id": "ultimate-hollywood",
   "metadata": {},
   "outputs": [],
   "source": [
    "# split into training and testing sets\n",
    "X_train, X_test, y_train, y_test = train_test_split(X_r, y.values, test_size=0.3, random_state=123)"
   ]
  },
  {
   "cell_type": "code",
   "execution_count": 6,
   "id": "bottom-affairs",
   "metadata": {},
   "outputs": [],
   "source": [
    "# training data\n",
    "#train_data = np.delete(X_r, test_idx, axis=0)\n",
    "#train_target = np.delete(y.values, test_idx)\n",
    "\n",
    "# testing data\n",
    "#test_data = X_r[test_idx]\n",
    "#test_target = y.values[test_idx]"
   ]
  },
  {
   "cell_type": "code",
   "execution_count": 7,
   "id": "covered-andrew",
   "metadata": {},
   "outputs": [
    {
     "name": "stdout",
     "output_type": "stream",
     "text": [
      "\n",
      "The target test data set is:\n",
      " [0. 0. 1. ... 0. 0. 0.]\n",
      "\n",
      "The predicted result is:\n",
      " [0. 0. 0. ... 0. 0. 0.]\n",
      "\n",
      "Accuracy rate is:\n",
      " 0.823916898910565\n"
     ]
    }
   ],
   "source": [
    "# Decision Tree model\n",
    "clf = tree.DecisionTreeClassifier(criterion='entropy', splitter='best')\n",
    "clf.fit(X=X_train, y=y_train)\n",
    "print('\\nThe target test data set is:\\n', y_test)\n",
    "print('\\nThe predicted result is:\\n', clf.predict(X_test))\n",
    "print('\\nAccuracy rate is:\\n', acc_rate(y_test, clf.predict(X_test)))"
   ]
  },
  {
   "cell_type": "code",
   "execution_count": 8,
   "id": "discrete-import",
   "metadata": {},
   "outputs": [
    {
     "data": {
      "text/plain": [
       "'p2p.pdf'"
      ]
     },
     "execution_count": 8,
     "metadata": {},
     "output_type": "execute_result"
    }
   ],
   "source": [
    "dot_data = tree.export_graphviz(clf,\n",
    "                                out_file=None,\n",
    "                                class_names=\"status\",\n",
    "                                filled=True,\n",
    "                                rounded=True,\n",
    "                                impurity=False,\n",
    "                                special_characters=True)\n",
    "graph = graphviz.Source(dot_data)\n",
    "graph.render(\"p2p\", view = True)"
   ]
  },
  {
   "cell_type": "code",
   "execution_count": null,
   "id": "pediatric-facility",
   "metadata": {},
   "outputs": [],
   "source": []
  }
 ],
 "metadata": {
  "kernelspec": {
   "display_name": "Python 3",
   "language": "python",
   "name": "python3"
  },
  "language_info": {
   "codemirror_mode": {
    "name": "ipython",
    "version": 3
   },
   "file_extension": ".py",
   "mimetype": "text/x-python",
   "name": "python",
   "nbconvert_exporter": "python",
   "pygments_lexer": "ipython3",
   "version": "3.7.9"
  }
 },
 "nbformat": 4,
 "nbformat_minor": 5
}
